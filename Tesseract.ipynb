{
 "cells": [
  {
   "cell_type": "code",
   "execution_count": 1,
   "metadata": {},
   "outputs": [],
   "source": [
    "import pandas as pd"
   ]
  },
  {
   "cell_type": "code",
   "execution_count": 15,
   "metadata": {},
   "outputs": [
    {
     "name": "stdout",
     "output_type": "stream",
     "text": [
      "Collecting pytesseract\n",
      "  Downloading https://files.pythonhosted.org/packages/47/e5/892d78db0d26372aa376fc1b127e9cd4cc158727a76e0802069115fcbd6e/pytesseract-0.3.0.tar.gz\n",
      "Requirement already satisfied: Pillow in c:\\users\\kumarsa\\appdata\\local\\continuum\\anaconda3\\lib\\site-packages (from pytesseract) (5.3.0)\n",
      "Building wheels for collected packages: pytesseract\n",
      "  Building wheel for pytesseract (setup.py): started\n",
      "  Building wheel for pytesseract (setup.py): finished with status 'done'\n",
      "  Created wheel for pytesseract: filename=pytesseract-0.3.0-py2.py3-none-any.whl size=20973 sha256=b7a3e3a9c9f56ad7df61774018f4856b70003a575fd4d59361f7f9303eb703eb\n",
      "  Stored in directory: C:\\Users\\kumarsa\\AppData\\Local\\pip\\Cache\\wheels\\78\\c9\\ac\\4cb76bd547f9970070522439e5203ba7926c5c5c4f131583ea\n",
      "Successfully built pytesseract\n",
      "Installing collected packages: pytesseract\n",
      "Successfully installed pytesseract-0.3.0\n"
     ]
    }
   ],
   "source": [
    "!pip install pytesseract --trusted-host pypi.python.org --trusted-host files.pythonhosted.org --trusted-host pypi.org --trusted-host https://pypi.org/simple/pip/ "
   ]
  },
  {
   "cell_type": "code",
   "execution_count": 8,
   "metadata": {},
   "outputs": [],
   "source": [
    "import PyPDF2"
   ]
  },
  {
   "cell_type": "code",
   "execution_count": 11,
   "metadata": {},
   "outputs": [
    {
     "name": "stdout",
     "output_type": "stream",
     "text": [
      "1\n",
      "\n"
     ]
    }
   ],
   "source": [
    "pdfFileObj = open('doc_20191216153707.pdf', 'rb')\n",
    "# pdf reader object\n",
    "pdfReader = PyPDF2.PdfFileReader(pdfFileObj)\n",
    "# number of pages in pdf\n",
    "print(pdfReader.numPages)\n",
    "# a page object\n",
    "pageObj = pdfReader.getPage(0)\n",
    "# extracting text from page.\n",
    "# this will print the text you can also save that into String\n",
    "print(pageObj.extractText())"
   ]
  },
  {
   "cell_type": "code",
   "execution_count": 20,
   "metadata": {},
   "outputs": [],
   "source": [
    "import pytesseract"
   ]
  },
  {
   "cell_type": "code",
   "execution_count": 21,
   "metadata": {},
   "outputs": [],
   "source": [
    "from PIL import Image"
   ]
  },
  {
   "cell_type": "code",
   "execution_count": 29,
   "metadata": {},
   "outputs": [],
   "source": [
    "pytesseract.pytesseract.tesseract_cmd = r'C:/Program Files/Tesseract-OCR/tesseract.exe'"
   ]
  },
  {
   "cell_type": "code",
   "execution_count": 30,
   "metadata": {},
   "outputs": [],
   "source": [
    "text = pytesseract.image_to_string(Image.open('doc_20191216153707-page-001.jpg'))"
   ]
  },
  {
   "cell_type": "code",
   "execution_count": 31,
   "metadata": {},
   "outputs": [
    {
     "name": "stdout",
     "output_type": "stream",
     "text": [
      "150 300.011 D1 (Fassung Jan. 2015) - v3.6 - 0\n",
      "\n",
      "manvell\n",
      "\n",
      " \n",
      "\n",
      " \n",
      "\n",
      "Hinweise zum Freistellungsauftrag fur den Kunden\n",
      "\n",
      "Die Erteilung des Freistellungsauftrages ist Voraussetzung flr die\n",
      "Freistellung vom Abzug der Abgeltungsteuer. Sofem Sie keinen\n",
      "Freistellungsauftrag erteilen, wird bei jeder Gutschrift von Kapitalertra-\n",
      "gen, wie z. B. von Zinsertragen, Dividenden, Ertrgen aus Investment-\n",
      "fonds und grundséitzlich auch bei WertpapierverduRerungsgewinnen,\n",
      "ein 26%iger Abzug (Abgeltungsteuer) zzgl. 5,5% Solidaritatszuschlag\n",
      "und ggf. Kirchensteuer vorgenommen.\n",
      "\n",
      "1. Wer kann einen Freistellungsauftrag erteilen?\n",
      "Der Freistellungsauftrag kann von jeder natiirlichen Person, die ihren\n",
      "Wohnsitz oder gewohnlichen Aufenthalt im Inland hat, bis zur Hohe\n",
      "des Sparer-Pauschbetrages ertellt werden. Das sind fur Alleinste-\n",
      "hende 801 EUR\n",
      "\n",
      "Ehegatten/Eingetragene Lebenspartner (bei denen die Vorausset-\n",
      "zungen fiir eine Zusammenveranlagung vorliegen — das ist der Fall,\n",
      "wenn sie unbeschrénkt einkommensteuerpfiichtig sind und nicht dau-\n",
      "ernd getrennt leben) kénnen wéhlen, ob sie einen gemeinsamen\n",
      "bis zur Héhe des gemeinsamen Sparer-Pausch-\n",
      "UR (mit der Folge der ehegattenibergreifenden/\n",
      "eifenden Verlustverrechnung, s. hierzu Ziffer 2)\n",
      "\n",
      "firage jewells bis zur Hohe von 801 EUR\n",
      "ehegattentibergreifende/lebenspartneriber-\n",
      "greifende rechnung durchgefthrt wird) erteilen wollen. Einze!-\n",
      "Freistellungsaufirége gelten allerdings nicht fur Gemeinschaftskonten\n",
      "und -<depots (s. auch Ziffer 6). Einzel-Freistellungsauftrage kommen\n",
      "insbesondere in Betracht, wenn die Ehegatten/Lebenspartner getrennt\n",
      "veranlagt werden bzw. wenn die Ubergreifende Verlustverrechnung\n",
      "auf Bankebene ausgeschlossen werden soll\n",
      "\n",
      "   \n",
      " \n",
      "      \n",
      " \n",
      "   \n",
      " \n",
      "   \n",
      "\n",
      "betrages von\n",
      "lebenspartns\n",
      "oder Ei\n",
      "(mit dei\n",
      "\n",
      " \n",
      "\n",
      "2. Wie kann eine ehegatteniibergreifende/lebenspartnerdbergrei-\n",
      "fence Verlustverrechnung erreicht werden?\n",
      "\n",
      "Ertellen Ehegatten/Lebenspartner einen gemeinsamen Freistellungs-\n",
      "auftrag, werden zum Jahresende bestehende Verlustiberhange mit\n",
      "Ertragen und Gewinnen des anderen Ehegatten/Lebenspartners oder\n",
      "mit gemeinschaftlich erzielten Ertragen und Gewinnen verrechnet. Es\n",
      "erfolgt also eine Ubergreifende Verrechnung von Verlusten Uber alle\n",
      "Konten und Depots der Ehegatten/Lebenspartner. Dabei ist zu beach-\n",
      "ten, dass eine auf Bankebene erfolgte Verlustverrechnung nach Auf-\n",
      "fassung der Finanzverwaltung in der Veranlagung nicht mehr riickgan-\n",
      "gig gemacht werden kann\n",
      "\n",
      "Soll lediglich die Ubergreifende Verlustverrechnung, aber keine\n",
      "Freistellung vom Steuerabzug durchgefiihrt werden, kann auch ein\n",
      "gemeinsamer Freistellungsauftrag von 0 EUR erteilt werden. Dies\n",
      "kann in Betracht kommen, wenn das gemeinsame Freistellungsvolu-\n",
      "men von 1.602 EUR schon bei einem anderen Kreditinstitut ausge-\n",
      "schopft ist\n",
      "\n",
      "3. Wem ist der Freistellungsauftrag zu erteilen?\n",
      "\n",
      "Der Freistellungsauftrag ist der Sparkasse, Landesbank, Landesbau-\n",
      "\n",
      "sparkasse und DekaBank, bei denen der Kunde seine Konten und\n",
      "\n",
      "Depots unterhailt, zu erteilen. Er kann\n",
      "\n",
      "— entweder bis zur vollen Hohe von 801 EUR bzw. 1.602 EUR erteilt\n",
      "\n",
      "— oder — bei mehreren Kontoverbindungen — in Teilbetréigen auf meh-\n",
      "rere Institute aufgeteilt werden. Keinesfalls darf die Summe der Teil-\n",
      "betrige die genannte Hohe von 801 EUR bzw. 1.602 EUR dber-\n",
      "schreiten.\n",
      "\n",
      "Kapitalertrage von Kindem sind in den Freistellungsauftrag der Eltern\n",
      "\n",
      "nicht einzurechnen: fur sie kann jeweils ein gesonderter Freistellungs-\n",
      "\n",
      "auftrag bis zur Hohe von 801 EUR gestellt werden\n",
      "\n",
      "4, Wie ist der Freistellungsauftrag zu erteilen?\n",
      "\n",
      "Der Freistellungsauftrag ist auf amtlich vorgeschriebenem Vordruck zu\n",
      "erteilen. Eine Ausfertigung ist far das Institut und eine Ausfertigung fur\n",
      "thre Unterlagen bestimmt.\n",
      "\n",
      "Der Freistellungsauftrag kann auch per Fax oder im elektronischen\n",
      "Verfahren (Online-Banking) Ubermittelt werden.\n",
      "\n",
      "5. Inhalt des Freistellungsauftrages und Unterschrift\n",
      "Der Freistellungsauftrag muss zur steuerlichen Wirksamkeit die ange-\n",
      "forderten persdnlichen Daten enthalten (Name, abweichender\n",
      "Geburtsname, Vorname, Geburtsdatum, vollstandige Anschrift und\n",
      "seit 1. Januar 2011 zwingend auch Ihre Steuer-Identifikationsnum-\n",
      "mer). Bei einem gemeinsamen Freistellungsauftrag sind die Angaben\n",
      "beider Ehegatten/Lebenspartner erforderlich. Bitte filllen Sie daher den\n",
      "Freistellungsauftrag vollstandig und sorgfaltig aus.\n",
      "\n",
      "Sollten Sie den Freistellungsauftrag auf mehrere Institute aufteilen,\n",
      "tragen Sie bitte den Betrag ein, bis zu dem wir Ihre Ertrage vor Steu-\n",
      "erabzug freistellen sollen (s. Ausfihrungen zu Ziffer 1 und 3). Wenn\n",
      "Sie bei uns den gesamten Freistellungsbetrag ausschdpfen wollen,\n",
      "kreuzen Sie bitte das entsprechende Feld an\n",
      "\n",
      "Bitte unterschreiben Sie Ihren Freistellungsauftrag; ein gemeinsamer\n",
      "Freistellungsauftrag ist von beiden Ehegatten/Lebenspartnern zu\n",
      "unterschreiben, bei Minderjahrigen von den gesetzlichen Vertretem.\n",
      "\n",
      "6. Fir welche Konten ist der Freistellungsauftrag zu erteilen?\n",
      "Der Freistellungsauftrag gilt fur samtliche privaten Konten und Depots,\n",
      "die der Kunde bei seiner Sparkasse unterhait.\n",
      "\n",
      "Erteilen Ehegatten/Lebenspartner einen gemeinsamen Freistellungs-\n",
      "auftrag, wird dieser auch fur gemeinschaftliche Konten und Depots der\n",
      "Eheleute/Lebenspartner angewendet (Beachte: Einzel-Freistellungs-\n",
      "auftrage der Ehegatten/Lebenspartner kénnen hingegen nur fur Ein-\n",
      "zelkonten und -depots des jeweiligen Ehegatten/Lebenspartners ange-\n",
      "wendet werden). Bei allen anderen Gemeinschaftskonten und -depots\n",
      "ist eine Freistellung ausgeschlossen.\n",
      "\n",
      "Nicht angewendet werden kann der Freistellungsauftrag auf solche\n",
      "Konten und Depots, deren Kapitalertrage Betriebseinnahmen (Gewer-\n",
      "bebetrieb, selbstandige Arbeit, Land- und Forstwirtschaft) oder Ein-\n",
      "nahmen aus Vermietung und Verpachtung sind (nur ausnahmsweise\n",
      "gegeben; Zinsen aus einem Mietkonto fallen nicht darunter). Bitte\n",
      "kennzeichnen oder nennen Sie uns diese Konten und Depots, damit\n",
      "wir Ihren Freistellungsauftrag zutreffend anwenden kénnen\n",
      "\n",
      "Von der Freistellung ausgenommen sind auch Falle, bei denen der\n",
      "Sparkasse nicht bekannt ist, ob der Konto- oder Depotinhaber auch\n",
      "der Glaubiger der Kapitalertrage ist. Hierunter fallen Treuhandkonten\n",
      "(z. B. Mietkautionskonto, das nicht auf den Namen des Mieters lautet),\n",
      "Nie®brauchs- und Anderkonten.\n",
      "\n",
      "7. Zeitliche Gilltigkeit des Freistellungsauftrages\n",
      "Der Freistellungsauftrag gilt jewells fr ein Kalenderjahr und verlaingert\n",
      "sich automatisch, sofern der Kunde keine andere Weisung erteilt; eine\n",
      "sandere Weisung\" kann z. B. die Anderung des Freistellungsbetrages\n",
      "sein. Zur Befristung und zum Widerruf eines Freistellungsauftrages\n",
      "siehe die Hinweise unter dem Freistellungsauftrag.\n",
      "\n",
      " \n",
      "\n",
      "8. Prifungsméglichkeit der Finanzbehérden und\n",
      "Sozialleistungstrager\n",
      "\n",
      "Die persénlichen Daten des Freistellungsauftrages sowie die Hohe der\n",
      "freigestellten Ertrage werden dem Bundeszentralamt fir Steuer mit-\n",
      "geteilt. Damit stehen sie den Finanzbehérden zu Priifungszwecken\n",
      "zur Verfugung. Das Bundeszentralamt fur Steuern darf die Daten auch\n",
      "den Sozialleistungstragem mitteilen, soweit dies zur Uberpriifung des\n",
      "bei der Sozialleistung zu berticksichtigenden Einkommens oder Ver-\n",
      "mégens erforderlich ist.\n",
      "\n",
      "9. Ertragnisgutschriften\n",
      "Nach Erteilung des Freistellungsauftrages werden Kapitalertrage ohne\n",
      "Steuerabzug bis zur Hohe des angegebenen Freistellungsbetrages\n",
      "guigeschrieben. Auf die darlber hinausgehenden Ertrége wird der\n",
      "Steuerabzug von 25% zuztiglich Solidaritatszuschlag und ggf. Kirchen-\n",
      "steuer vorgenommen und an das zustandige Betriebsstatten-Finanz-\n",
      "amt anonym abgefiihrt\n",
      "\n",
      "Wenn Verluste aus WertpapierveréuBerungen mit den Ertragen ver-\n",
      "rechnet werden kénnen, wird der Freisteilungsauftrag insoweit nicht in\n",
      "Anspruch genommen. Vor Berticksichtigung des Freistellungsauftra-\n",
      "ges werden also zundchst Verluste mit den Ertragen verrechnet. Dabei\n",
      "ist zu beachten, dass Verluste aus der Verduerung von Aktien nur mit\n",
      "Gewinnen aus der VerauRerung von Aktien verrechnet werden kénnen.\n",
      "\n",
      "10. Was Sie noch wissen sollten\n",
      "\n",
      "Die Abgeltungsteuer ist eine Form der Einkommensteuer. Fir die\n",
      "betroffenen Einnahmen aus Kapitalvermégen hat der Einbehalt der\n",
      "Abgeltungsteuer — ihr Name sagt es — grundsatzlich abgeltende Wir-\n",
      "kung, stellt also nicht nur eine Vorauszahlung auf die Einkommen-\n",
      "steuer dar.\n",
      "\n",
      "Ausnahmen gelten, wenn die persénliche Steuerbelastung des Steuer-\n",
      "pflichtigen unter der Abgeltungsteuerbelastung liegt. In derartigen\n",
      "Fallen kann durch eine Antragsveranlagung beim Finanzamt eine\n",
      "Erstattung des Differenzbetrages zwischen individueller Steuer und\n",
      "einbehaltener Abgeltungsteuer beantragt werden,\n",
      "\n",
      " \n",
      "\n",
      "Seite 1 von 4\n"
     ]
    }
   ],
   "source": [
    "print(text)"
   ]
  },
  {
   "cell_type": "code",
   "execution_count": null,
   "metadata": {},
   "outputs": [],
   "source": []
  }
 ],
 "metadata": {
  "kernelspec": {
   "display_name": "Python 3",
   "language": "python",
   "name": "python3"
  },
  "language_info": {
   "codemirror_mode": {
    "name": "ipython",
    "version": 3
   },
   "file_extension": ".py",
   "mimetype": "text/x-python",
   "name": "python",
   "nbconvert_exporter": "python",
   "pygments_lexer": "ipython3",
   "version": "3.7.1"
  },
  "toc": {
   "base_numbering": 1,
   "nav_menu": {},
   "number_sections": true,
   "sideBar": true,
   "skip_h1_title": false,
   "title_cell": "Table of Contents",
   "title_sidebar": "Contents",
   "toc_cell": false,
   "toc_position": {},
   "toc_section_display": true,
   "toc_window_display": false
  },
  "varInspector": {
   "cols": {
    "lenName": 16,
    "lenType": 16,
    "lenVar": 40
   },
   "kernels_config": {
    "python": {
     "delete_cmd_postfix": "",
     "delete_cmd_prefix": "del ",
     "library": "var_list.py",
     "varRefreshCmd": "print(var_dic_list())"
    },
    "r": {
     "delete_cmd_postfix": ") ",
     "delete_cmd_prefix": "rm(",
     "library": "var_list.r",
     "varRefreshCmd": "cat(var_dic_list()) "
    }
   },
   "types_to_exclude": [
    "module",
    "function",
    "builtin_function_or_method",
    "instance",
    "_Feature"
   ],
   "window_display": false
  }
 },
 "nbformat": 4,
 "nbformat_minor": 2
}
